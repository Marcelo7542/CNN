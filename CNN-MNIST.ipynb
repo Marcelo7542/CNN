{
 "cells": [
  {
   "cell_type": "code",
   "execution_count": 59,
   "id": "f5b2a128-27ff-4e20-844f-114f1315f7fa",
   "metadata": {},
   "outputs": [],
   "source": [
    "import tensorflow as tf\n",
    "import pandas as pd\n",
    "import numpy as np\n",
    "from sklearn.datasets import load_sample_image\n",
    "from sklearn.model_selection import train_test_split\n",
    "from sklearn.preprocessing import StandardScaler\n",
    "from sklearn.decomposition import PCA\n",
    "from scipy.ndimage import shift\n",
    "import matplotlib.pyplot as plt"
   ]
  },
  {
   "cell_type": "code",
   "execution_count": 60,
   "id": "f44dbb3d-3cda-44ca-bf7d-bb5db83f9857",
   "metadata": {},
   "outputs": [],
   "source": [
    "aug = tf.keras.preprocessing.image.ImageDataGenerator(\n",
    "    width_shift_range=0.2,  \n",
    "    height_shift_range=0.2,  \n",
    "    brightness_range=[0.7, 1.3],  \n",
    "    fill_mode=\"constant\",  \n",
    "    cval=0  \n",
    ")"
   ]
  },
  {
   "cell_type": "code",
   "execution_count": 61,
   "id": "9570cafd-8fd8-439f-99ef-2feeb0a00120",
   "metadata": {},
   "outputs": [],
   "source": [
    "\n",
    "(x_train, y_train), (x_test, y_test) = tf.keras.datasets.mnist.load_data()\n",
    "\n",
    "x_train = x_train.astype(\"float32\") / 255.0\n",
    "x_test = x_test.astype(\"float32\") / 255.0\n",
    "x_train = x_train.reshape(-1, 28, 28, 1)\n",
    "x_test = x_test.reshape(-1, 28, 28, 1)\n",
    "\n"
   ]
  },
  {
   "cell_type": "code",
   "execution_count": 62,
   "id": "6bf57ae3-85b2-41d7-9cb8-d47f10331359",
   "metadata": {},
   "outputs": [
    {
     "name": "stdout",
     "output_type": "stream",
     "text": [
      "(60000, 28, 28, 1)\n",
      "(180000, 28, 28, 1)\n"
     ]
    }
   ],
   "source": [
    "augmented_images = []\n",
    "augmented_labels = []\n",
    "for image, label in zip(x_train, y_train):\n",
    "    image = np.expand_dims(image, axis=0)  \n",
    "    augment_iter = aug.flow(image, batch_size=1) \n",
    "    for _ in range(2):  \n",
    "        aug_image = next(augment_iter)[0]\n",
    "        augmented_images.append(aug_image)\n",
    "        augmented_labels.append(label)\n",
    "\n",
    "\n",
    "augmented_images = np.array(augmented_images)\n",
    "augmented_labels = np.array(augmented_labels)\n",
    "x_train_augmented = np.concatenate([x_train, augmented_images])\n",
    "y_train_augmented = np.concatenate([y_train, augmented_labels])\n",
    "\n",
    "print(x_train.shape)\n",
    "print(x_train_augmented.shape)"
   ]
  },
  {
   "cell_type": "code",
   "execution_count": 63,
   "id": "ca1d26cb-3e2b-4ce0-96a1-de96f821ebaa",
   "metadata": {},
   "outputs": [],
   "source": [
    "x_train, x_val, y_train, y_val = train_test_split(x_train_augmented, y_train_augmented, test_size=0.2, random_state=60)"
   ]
  },
  {
   "cell_type": "code",
   "execution_count": 64,
   "id": "7c29bcf0-2663-4b3b-b92a-bd02420d3233",
   "metadata": {},
   "outputs": [],
   "source": [
    "x_train_flat = x_train.reshape(-1, 28 * 28)\n",
    "x_val_flat = x_val.reshape(-1, 28 * 28)\n",
    "x_test_flat = x_test.reshape(-1, 28 * 28)\n"
   ]
  },
  {
   "cell_type": "code",
   "execution_count": 65,
   "id": "db103c99-831e-4ff6-ad64-aba647a664ff",
   "metadata": {},
   "outputs": [],
   "source": [
    "scaler = StandardScaler()\n",
    "x_train_scaled = scaler.fit_transform(x_train_flat)\n",
    "x_val_scaled = scaler.transform(x_val_flat)\n",
    "x_test_scaled = scaler.transform(x_test_flat)"
   ]
  },
  {
   "cell_type": "code",
   "execution_count": 66,
   "id": "fa84e4de-0c3e-4abe-9f1a-83af87448b4a",
   "metadata": {},
   "outputs": [],
   "source": [
    "x_train = x_train_flat.reshape(-1, 28, 28, 1)\n",
    "x_val = x_val_flat.reshape(-1, 28, 28, 1)\n",
    "x_test = x_test_flat.reshape(-1, 28, 28, 1)"
   ]
  },
  {
   "cell_type": "code",
   "execution_count": 67,
   "id": "04507e54-fab3-4ba9-8d1c-6922990fe79e",
   "metadata": {},
   "outputs": [
    {
     "name": "stderr",
     "output_type": "stream",
     "text": [
      "C:\\Users\\marce\\anaconda4\\Lib\\site-packages\\keras\\src\\layers\\convolutional\\base_conv.py:107: UserWarning: Do not pass an `input_shape`/`input_dim` argument to a layer. When using Sequential models, prefer using an `Input(shape)` object as the first layer in the model instead.\n",
      "  super().__init__(activity_regularizer=activity_regularizer, **kwargs)\n"
     ]
    }
   ],
   "source": [
    "model = tf.keras.models.Sequential([\n",
    "    tf.keras.layers.Conv2D(64, 5, padding=\"same\", input_shape=[28, 28, 1]),\n",
    "    tf.keras.layers.BatchNormalization(),\n",
    "    tf.keras.layers.Activation(\"relu\"),\n",
    "    tf.keras.layers.MaxPooling2D(2),\n",
    "    \n",
    "    tf.keras.layers.Conv2D(128, 3, padding=\"same\"),\n",
    "    tf.keras.layers.BatchNormalization(),\n",
    "    tf.keras.layers.Activation(\"relu\"),\n",
    "    tf.keras.layers.Conv2D(128, 3, padding=\"same\"),\n",
    "    tf.keras.layers.BatchNormalization(),\n",
    "    tf.keras.layers.Activation(\"relu\"),\n",
    "    tf.keras.layers.MaxPooling2D(2),\n",
    "    \n",
    "    tf.keras.layers.Conv2D(256, 3, padding=\"same\"),\n",
    "    tf.keras.layers.BatchNormalization(),\n",
    "    tf.keras.layers.Activation(\"relu\"),\n",
    "    tf.keras.layers.Conv2D(256, 3, padding=\"same\"),\n",
    "    tf.keras.layers.BatchNormalization(),\n",
    "    tf.keras.layers.Activation(\"relu\"),\n",
    "    tf.keras.layers.MaxPooling2D(2),\n",
    "    \n",
    "    tf.keras.layers.Flatten(),\n",
    "    tf.keras.layers.Dense(128),\n",
    "    tf.keras.layers.BatchNormalization(),\n",
    "    tf.keras.layers.Activation(\"relu\"),\n",
    "    tf.keras.layers.Dropout(0.5),\n",
    "    \n",
    "    tf.keras.layers.Dense(64),\n",
    "    tf.keras.layers.BatchNormalization(),\n",
    "    tf.keras.layers.Activation(\"relu\"),\n",
    "    tf.keras.layers.Dropout(0.5),\n",
    "    \n",
    "    tf.keras.layers.Dense(10, activation=\"softmax\")\n",
    "])\n"
   ]
  },
  {
   "cell_type": "code",
   "execution_count": 68,
   "id": "ce50dae8-6283-414b-a637-7c8b3166bdd9",
   "metadata": {},
   "outputs": [
    {
     "name": "stdout",
     "output_type": "stream",
     "text": [
      "<bound method Model.summary of <Sequential name=sequential_6, built=True>>\n"
     ]
    }
   ],
   "source": [
    "print(model.summary)"
   ]
  },
  {
   "cell_type": "code",
   "execution_count": 69,
   "id": "cba14d46-0b88-482b-99ef-a4912ef18ab1",
   "metadata": {},
   "outputs": [],
   "source": [
    "def lr_schedule(epoch):\n",
    "    if epoch < 10:\n",
    "        return 0.01\n",
    "    elif epoch < 20:\n",
    "        return 0.05\n",
    "    elif epoch < 30:\n",
    "        return 0.001\n",
    "    elif epoch < 40:\n",
    "        return 0.0005\n",
    "    else:\n",
    "        return 0.0001\n"
   ]
  },
  {
   "cell_type": "code",
   "execution_count": 70,
   "id": "23fca645-e0a6-4400-86f9-bc12db1b7a31",
   "metadata": {},
   "outputs": [],
   "source": [
    "callbacks = [\n",
    "    tf.keras.callbacks.LearningRateScheduler(lr_schedule, verbose=1),\n",
    "    tf.keras.callbacks.EarlyStopping(monitor=\"val_accuracy\", patience=5, restore_best_weights=True),\n",
    "    tf.keras.callbacks.ModelCheckpoint(\"best_model.keras\", save_best_only=True, monitor=\"val_accuracy\")\n",
    "]"
   ]
  },
  {
   "cell_type": "code",
   "execution_count": 71,
   "id": "161d4a21-1d21-4a90-935f-1e3a6def778f",
   "metadata": {},
   "outputs": [],
   "source": [
    "optimizer = tf.keras.optimizers.SGD(learning_rate=0.001, momentum=0.99, nesterov=True)\n",
    "model.compile(\n",
    "    optimizer=optimizer,\n",
    "    loss=\"sparse_categorical_crossentropy\",\n",
    "    metrics=[\"accuracy\"]\n",
    ")"
   ]
  },
  {
   "cell_type": "code",
   "execution_count": null,
   "id": "06a70e22-a862-46cb-bb65-3db5041af9d0",
   "metadata": {},
   "outputs": [
    {
     "name": "stdout",
     "output_type": "stream",
     "text": [
      "\n",
      "Epoch 1: LearningRateScheduler setting learning rate to 0.01.\n",
      "Epoch 1/50\n",
      "\u001b[1m4500/4500\u001b[0m \u001b[32m━━━━━━━━━━━━━━━━━━━━\u001b[0m\u001b[37m\u001b[0m \u001b[1m0s\u001b[0m 419ms/step - accuracy: 0.1294 - loss: 2.2728"
     ]
    }
   ],
   "source": [
    "history = model.fit(\n",
    "    x_train, y_train,\n",
    "    validation_data=(x_val, y_val),\n",
    "    epochs=50,\n",
    "    batch_size=32,\n",
    "    callbacks=callbacks\n",
    ")"
   ]
  },
  {
   "cell_type": "code",
   "execution_count": null,
   "id": "a7931fab-337a-4f29-b3db-5efea5934410",
   "metadata": {},
   "outputs": [],
   "source": [
    "test_loss, test_accuracy = model.evaluate(x_test, y_test)\n",
    "print(f\"Test Loss: {test_loss}\")\n",
    "print(f\"Test Accuracy: {test_accuracy}\")"
   ]
  },
  {
   "cell_type": "code",
   "execution_count": null,
   "id": "cca77a19-aced-4320-9ebb-988b1cbcac85",
   "metadata": {},
   "outputs": [],
   "source": []
  }
 ],
 "metadata": {
  "kernelspec": {
   "display_name": "Python 3 (ipykernel)",
   "language": "python",
   "name": "python3"
  },
  "language_info": {
   "codemirror_mode": {
    "name": "ipython",
    "version": 3
   },
   "file_extension": ".py",
   "mimetype": "text/x-python",
   "name": "python",
   "nbconvert_exporter": "python",
   "pygments_lexer": "ipython3",
   "version": "3.11.7"
  }
 },
 "nbformat": 4,
 "nbformat_minor": 5
}
